{
 "cells": [
  {
   "cell_type": "code",
   "execution_count": 1,
   "id": "3f35358b",
   "metadata": {},
   "outputs": [
    {
     "name": "stdout",
     "output_type": "stream",
     "text": [
      "Requirement already satisfied: SpeechRecognition in c:\\users\\saikat\\anaconda3\\lib\\site-packages (3.10.0)\n",
      "Requirement already satisfied: requests>=2.26.0 in c:\\users\\saikat\\anaconda3\\lib\\site-packages (from SpeechRecognition) (2.28.1)\n",
      "Requirement already satisfied: charset-normalizer<3,>=2 in c:\\users\\saikat\\anaconda3\\lib\\site-packages (from requests>=2.26.0->SpeechRecognition) (2.0.4)\n",
      "Requirement already satisfied: urllib3<1.27,>=1.21.1 in c:\\users\\saikat\\anaconda3\\lib\\site-packages (from requests>=2.26.0->SpeechRecognition) (1.26.14)\n",
      "Requirement already satisfied: idna<4,>=2.5 in c:\\users\\saikat\\anaconda3\\lib\\site-packages (from requests>=2.26.0->SpeechRecognition) (3.4)\n",
      "Requirement already satisfied: certifi>=2017.4.17 in c:\\users\\saikat\\anaconda3\\lib\\site-packages (from requests>=2.26.0->SpeechRecognition) (2022.12.7)\n"
     ]
    }
   ],
   "source": [
    "!pip install SpeechRecognition"
   ]
  },
  {
   "cell_type": "code",
   "execution_count": 2,
   "id": "521ba7db",
   "metadata": {},
   "outputs": [
    {
     "name": "stdout",
     "output_type": "stream",
     "text": [
      "Requirement already satisfied: pyaudio in c:\\users\\saikat\\anaconda3\\lib\\site-packages (0.2.13)\n"
     ]
    }
   ],
   "source": [
    "! pip install pyaudio"
   ]
  },
  {
   "cell_type": "code",
   "execution_count": 3,
   "id": "1f966365",
   "metadata": {},
   "outputs": [
    {
     "name": "stdout",
     "output_type": "stream",
     "text": [
      "Speak something...\n",
      "You said: hello my name is Shekhar Mukherjee\n"
     ]
    }
   ],
   "source": [
    "import speech_recognition as sr\n",
    "\n",
    "# Initialize the recognizer\n",
    "r = sr.Recognizer()\n",
    "\n",
    "# Use the microphone as the source\n",
    "with sr.Microphone() as source:\n",
    "    print(\"Speak something...\")\n",
    "    audio = r.listen(source)\n",
    "\n",
    "    try:\n",
    "        # Recognize speech using Google Speech Recognition\n",
    "        text = r.recognize_google(audio)\n",
    "        print(\"You said:\", text)\n",
    "    except sr.UnknownValueError:\n",
    "        print(\"Sorry, I couldn't understand.\")\n",
    "    except sr.RequestError as e:\n",
    "        print(\"Could not request results from Google Speech Recognition service; {0}\".format(e))"
   ]
  },
  {
   "cell_type": "code",
   "execution_count": 4,
   "id": "a88bb474",
   "metadata": {},
   "outputs": [
    {
     "name": "stdout",
     "output_type": "stream",
     "text": [
      "hello my name is Shekhar Mukherjee\n"
     ]
    }
   ],
   "source": [
    "x = text\n",
    "print (x)"
   ]
  },
  {
   "cell_type": "code",
   "execution_count": 5,
   "id": "90109565",
   "metadata": {},
   "outputs": [
    {
     "name": "stdout",
     "output_type": "stream",
     "text": [
      "Note: you may need to restart the kernel to use updated packages.\n"
     ]
    },
    {
     "name": "stderr",
     "output_type": "stream",
     "text": [
      "ERROR: Could not open requirements file: [Errno 2] No such file or directory: 'requirements.txt'\n"
     ]
    }
   ],
   "source": [
    "pip install -r requirements.txt"
   ]
  },
  {
   "cell_type": "code",
   "execution_count": 6,
   "id": "5fa24ecf",
   "metadata": {},
   "outputs": [
    {
     "name": "stdout",
     "output_type": "stream",
     "text": [
      "Elon Musk has shown again he can influence the digital currency market with just his tweets. After\n",
      "saying that his electric vehicle-making company Tesla will not accept payments in Bitcoin because of\n",
      "environmental concerns, he tweeted that he was working with developers of Dogecoin to improve system\n",
      "transaction efficiency. Following the two distinct statements from him, the world's largest\n",
      "cryptocurrency hit a two-month low, while Dogecoin rallied by about 20 percent. The SpaceX CEO has\n",
      "in recent months often tweeted in support of Dogecoin, but rarely for Bitcoin.  In a recent tweet,\n",
      "Musk put out a statement from Tesla that it was “concerned” about the rapidly increasing use of\n",
      "fossil fuels for Bitcoin (price in India) mining and transaction, and hence was suspending vehicle\n",
      "purchases using the cryptocurrency.  A day later he again tweeted saying, “To be clear, I strongly\n",
      "believe in crypto, but it can't drive a massive increase in fossil fuel use, especially coal”.  It\n",
      "triggered a downward spiral for Bitcoin value but the cryptocurrency has stabilised since.   A\n",
      "number of Twitter users welcomed Musk's statement. One of them said it's time people started\n",
      "realising that Dogecoin “is here to stay” and another referred to Musk's previous assertion that\n",
      "crypto could become the world's future currency.\n",
      "\n",
      "\n"
     ]
    }
   ],
   "source": [
    "from textwrap import wrap\n",
    "text =\"\"\"Elon Musk has shown again he can influence the digital currency market with just his tweets. After saying that his electric vehicle-making company\n",
    "Tesla will not accept payments in Bitcoin because of environmental concerns, he tweeted that he was working with developers of Dogecoin to improve\n",
    "system transaction efficiency. Following the two distinct statements from him, the world's largest cryptocurrency hit a two-month low, while Dogecoin\n",
    "rallied by about 20 percent. The SpaceX CEO has in recent months often tweeted in support of Dogecoin, but rarely for Bitcoin.  In a recent tweet,\n",
    "Musk put out a statement from Tesla that it was “concerned” about the rapidly increasing use of fossil fuels for Bitcoin (price in India) mining and\n",
    "transaction, and hence was suspending vehicle purchases using the cryptocurrency.  A day later he again tweeted saying, “To be clear, I strongly\n",
    "believe in crypto, but it can't drive a massive increase in fossil fuel use, especially coal”.  It triggered a downward spiral for Bitcoin value but\n",
    "the cryptocurrency has stabilised since.   A number of Twitter users welcomed Musk's statement. One of them said it's time people started realising\n",
    "that Dogecoin “is here to stay” and another referred to Musk's previous assertion that crypto could become the world's future currency.\"\"\"\n",
    "\n",
    "for wrp in wrap(text,100):\n",
    "  print (wrp)\n",
    "print (\"\\n\")"
   ]
  },
  {
   "cell_type": "code",
   "execution_count": 7,
   "id": "765a3676",
   "metadata": {},
   "outputs": [
    {
     "name": "stderr",
     "output_type": "stream",
     "text": [
      "C:\\Users\\SAIKAT\\anaconda3\\lib\\site-packages\\transformers\\models\\t5\\tokenization_t5.py:164: FutureWarning: This tokenizer was incorrectly instantiated with a model max length of 512 which will be corrected in Transformers v5.\n",
      "For now, this behavior is kept to avoid breaking backwards compatibility when padding/encoding with `truncation is True`.\n",
      "- Be aware that you SHOULD NOT rely on t5-base automatically truncating your input to 512 when padding/encoding.\n",
      "- If you want to encode/pad to sequences longer than 512 you can either instantiate this tokenizer with `model_max_length` or pass `max_length` when encoding/padding.\n",
      "- To avoid this warning, please instantiate this tokenizer with `model_max_length` set to your preferred value.\n",
      "  warnings.warn(\n"
     ]
    }
   ],
   "source": [
    "import torch\n",
    "from transformers import T5ForConditionalGeneration,T5Tokenizer\n",
    "summary_model = T5ForConditionalGeneration.from_pretrained('t5-base')\n",
    "summary_tokenizer = T5Tokenizer.from_pretrained('t5-base')\n",
    "\n",
    "device = torch.device(\"cuda\" if torch.cuda.is_available() else \"cpu\")\n",
    "summary_model = summary_model.to(device)\n"
   ]
  },
  {
   "cell_type": "code",
   "execution_count": 8,
   "id": "18413751",
   "metadata": {},
   "outputs": [],
   "source": [
    "import random\n",
    "import numpy as np\n",
    "\n",
    "def set_seed(seed: int):\n",
    "    random.seed(seed)\n",
    "    np.random.seed(seed)\n",
    "    torch.manual_seed(seed)\n",
    "    torch.cuda.manual_seed_all(seed)\n",
    "\n",
    "set_seed(42)"
   ]
  },
  {
   "cell_type": "code",
   "execution_count": 9,
   "id": "4e83fe20",
   "metadata": {},
   "outputs": [
    {
     "name": "stderr",
     "output_type": "stream",
     "text": [
      "[nltk_data] Downloading package punkt to\n",
      "[nltk_data]     C:\\Users\\SAIKAT\\AppData\\Roaming\\nltk_data...\n",
      "[nltk_data]   Package punkt is already up-to-date!\n",
      "[nltk_data] Downloading package brown to\n",
      "[nltk_data]     C:\\Users\\SAIKAT\\AppData\\Roaming\\nltk_data...\n",
      "[nltk_data]   Package brown is already up-to-date!\n",
      "[nltk_data] Downloading package wordnet to\n",
      "[nltk_data]     C:\\Users\\SAIKAT\\AppData\\Roaming\\nltk_data...\n",
      "[nltk_data]   Package wordnet is already up-to-date!\n"
     ]
    },
    {
     "name": "stdout",
     "output_type": "stream",
     "text": [
      "\n",
      "original Text >>\n",
      "Elon Musk has shown again he can influence the digital currency market with just his tweets. After saying that his electric vehicle-making company\n",
      "Tesla will not accept payments in Bitcoin because of environmental concerns, he tweeted that he was working with developers of Dogecoin to improve\n",
      "system transaction efficiency. Following the two distinct statements from him, the world's largest cryptocurrency hit a two-month low, while Dogecoin\n",
      "rallied by about 20 percent. The SpaceX CEO has in recent months often tweeted in support of Dogecoin, but rarely for Bitcoin.  In a recent tweet,\n",
      "Musk put out a statement from Tesla that it was “concerned” about the rapidly increasing use of fossil fuels for Bitcoin (price in India) mining and\n",
      "transaction, and hence was suspending vehicle purchases using the cryptocurrency.  A day later he again tweeted saying, “To be clear, I strongly\n",
      "believe in crypto, but it can't drive a massive increase in fossil fuel use, especially coal”.  It triggered a downward spiral for Bitcoin value but\n",
      "the cryptocurrency has stabilised since.   A number of Twitter users welcomed Musk's statement. One of them said it's time people started realising\n",
      "that Dogecoin “is here to stay” and another referred to Musk's previous assertion that crypto could become the world's future currency.\n",
      "\n",
      "\n",
      "Summarized Text >>\n",
      "Musk tweeted that his electric vehicle-making company tesla will not accept payments in bitcoin because of environmental concerns. He also said that\n",
      "the company was working with developers of dogecoin to improve system transaction efficiency. The world's largest cryptocurrency hit a two-month low,\n",
      "while doge coin rallied by about 20 percent. Musk has in recent months often tweeted in support of crypto, but rarely for bitcoin.\n",
      "\n",
      "\n"
     ]
    }
   ],
   "source": [
    "import nltk\n",
    "nltk.download('punkt')\n",
    "nltk.download('brown')\n",
    "nltk.download('wordnet')\n",
    "from nltk.corpus import wordnet as wn\n",
    "from nltk.tokenize import sent_tokenize\n",
    "\n",
    "def postprocesstext (content):\n",
    "  final=\"\"\n",
    "  for sent in sent_tokenize(content):\n",
    "    sent = sent.capitalize()\n",
    "    final = final +\" \"+sent\n",
    "  return final\n",
    "\n",
    "\n",
    "def summarizer(text,model,tokenizer):\n",
    "  text = text.strip().replace(\"\\n\",\" \")\n",
    "  text = \"summarize: \"+text\n",
    "  # print (text)\n",
    "  max_len = 512\n",
    "  encoding = tokenizer.encode_plus(text,max_length=max_len, pad_to_max_length=False,truncation=True, return_tensors=\"pt\").to(device)\n",
    "\n",
    "  input_ids, attention_mask = encoding[\"input_ids\"], encoding[\"attention_mask\"]\n",
    "\n",
    "  outs = model.generate(input_ids=input_ids,\n",
    "                                  attention_mask=attention_mask,\n",
    "                                  early_stopping=True,\n",
    "                                  num_beams=3,\n",
    "                                  num_return_sequences=1,\n",
    "                                  no_repeat_ngram_size=2,\n",
    "                                  min_length = 75,\n",
    "                                  max_length=300)\n",
    "\n",
    "\n",
    "  dec = [tokenizer.decode(ids,skip_special_tokens=True) for ids in outs]\n",
    "  summary = dec[0]\n",
    "  summary = postprocesstext(summary)\n",
    "  summary= summary.strip()\n",
    "\n",
    "  return summary\n",
    "\n",
    "\n",
    "summarized_text = summarizer(text,summary_model,summary_tokenizer)\n",
    "\n",
    "\n",
    "print (\"\\noriginal Text >>\")\n",
    "for wrp in wrap(text, 150):\n",
    "  print (wrp)\n",
    "print (\"\\n\")\n",
    "print (\"Summarized Text >>\")\n",
    "for wrp in wrap(summarized_text, 150):\n",
    "  print (wrp)\n",
    "print (\"\\n\")"
   ]
  },
  {
   "cell_type": "code",
   "execution_count": 10,
   "id": "3c6cc348",
   "metadata": {},
   "outputs": [
    {
     "name": "stderr",
     "output_type": "stream",
     "text": [
      "[nltk_data] Downloading package stopwords to\n",
      "[nltk_data]     C:\\Users\\SAIKAT\\AppData\\Roaming\\nltk_data...\n",
      "[nltk_data]   Package stopwords is already up-to-date!\n"
     ]
    }
   ],
   "source": [
    "import nltk\n",
    "nltk.download('stopwords')\n",
    "from nltk.corpus import stopwords\n",
    "import string\n",
    "import pke\n",
    "import traceback\n",
    "\n",
    "def get_nouns_multipartite(content):\n",
    "    out=[]\n",
    "    try:\n",
    "        extractor = pke.unsupervised.MultipartiteRank()\n",
    "        extractor.load_document(input=content,language='en')\n",
    "        #    not contain punctuation marks or stopwords as candidates.\n",
    "        pos = {'PROPN','NOUN'}\n",
    "        #pos = {'PROPN','NOUN'}\n",
    "        stoplist = list(string.punctuation)\n",
    "        stoplist += ['-lrb-', '-rrb-', '-lcb-', '-rcb-', '-lsb-', '-rsb-']\n",
    "        stoplist += stopwords.words('english')\n",
    "        # extractor.candidate_selection(pos=pos, stoplist=stoplist)\n",
    "        extractor.candidate_selection(pos=pos)\n",
    "        # 4. build the Multipartite graph and rank candidates using random walk,\n",
    "        #    alpha controls the weight adjustment mechanism, see TopicRank for\n",
    "        #    threshold/method parameters.\n",
    "        extractor.candidate_weighting(alpha=1.1,\n",
    "                                      threshold=0.75,\n",
    "                                      method='average')\n",
    "        keyphrases = extractor.get_n_best(n=15)\n",
    "        \n",
    "\n",
    "        for val in keyphrases:\n",
    "            out.append(val[0])\n",
    "    except:\n",
    "        out = []\n",
    "        traceback.print_exc()\n",
    "\n",
    "    return out"
   ]
  },
  {
   "cell_type": "code",
   "execution_count": 13,
   "id": "b8910cd7",
   "metadata": {},
   "outputs": [
    {
     "name": "stdout",
     "output_type": "stream",
     "text": [
      "keywords unsummarized:  []\n",
      "['company', 'system transaction efficiency', 'tesla', 'bitcoin', 'dogecoin', 'cryptocurrency', 'payments', 'world', 'musk', 'dogecoin', 'bitcoin', 'cryptocurrency', 'tesla']\n"
     ]
    },
    {
     "name": "stderr",
     "output_type": "stream",
     "text": [
      "Traceback (most recent call last):\n",
      "  File \"C:\\Users\\SAIKAT\\AppData\\Local\\Temp\\ipykernel_13412\\3252747949.py\", line 12, in get_nouns_multipartite\n",
      "    extractor.load_document(input=content,language='en')\n",
      "  File \"C:\\Users\\SAIKAT\\anaconda3\\lib\\site-packages\\pke\\base.py\", line 98, in load_document\n",
      "    sents = parser.read(text=input, spacy_model=spacy_model)\n",
      "  File \"C:\\Users\\SAIKAT\\anaconda3\\lib\\site-packages\\pke\\readers.py\", line 93, in read\n",
      "    raise Exception(excp_msg)\n",
      "Exception: No downloaded spacy model for 'en' language.\n",
      "A list of downloadable spacy models is available at https://spacy.io/models.\n",
      "Alternatively, preprocess your document as a list of sentence tuple (word, pos), such as:\n",
      "\t[[('The', 'DET'), ('brown', 'ADJ'), ('fox', 'NOUN'), ('.', 'PUNCT')]]\n"
     ]
    }
   ],
   "source": [
    "from flashtext import KeywordProcessor\n",
    "\n",
    "\n",
    "def get_keywords(originaltext,summarytext):\n",
    "  keywords = get_nouns_multipartite(originaltext)\n",
    "  print (\"keywords unsummarized: \",keywords)\n",
    "  keyword_processor = KeywordProcessor()\n",
    "  for keyword in keywords:\n",
    "    keyword_processor.add_keyword(keyword)\n",
    "\n",
    "  keywords_found = keyword_processor.extract_keywords(summarytext)\n",
    "  keywords_found = list(set(keywords_found))\n",
    "  #print (\"keywords_found in summarized: \",keywords_found)\n",
    "\n",
    "  important_keywords =[]\n",
    "  for keyword in keywords:\n",
    "    if keyword in keywords_found:\n",
    "      important_keywords.append(keyword)\n",
    "\n",
    "  return important_keywords[:4]\n",
    "\n",
    "\n",
    "imp_keywords = get_keywords(text,summarized_text)\n",
    "imp_keywords = ['company', 'system transaction efficiency', 'tesla', 'bitcoin', 'dogecoin', 'cryptocurrency', 'payments', 'world', 'musk'\n",
    ",'dogecoin', 'bitcoin', 'cryptocurrency', 'tesla']\n",
    "print (imp_keywords)\n"
   ]
  },
  {
   "cell_type": "code",
   "execution_count": 14,
   "id": "1a50019d",
   "metadata": {},
   "outputs": [],
   "source": [
    "question_model = T5ForConditionalGeneration.from_pretrained('ramsrigouthamg/t5_squad_v1')\n",
    "question_tokenizer = T5Tokenizer.from_pretrained('ramsrigouthamg/t5_squad_v1')\n",
    "question_model = question_model.to(device)"
   ]
  },
  {
   "cell_type": "code",
   "execution_count": 15,
   "id": "40112abb",
   "metadata": {},
   "outputs": [
    {
     "name": "stdout",
     "output_type": "stream",
     "text": [
      "Musk tweeted that his electric vehicle-making company tesla will not accept payments in bitcoin because of environmental concerns. He also said that\n",
      "the company was working with developers of dogecoin to improve system transaction efficiency. The world's largest cryptocurrency hit a two-month low,\n",
      "while doge coin rallied by about 20 percent. Musk has in recent months often tweeted in support of crypto, but rarely for bitcoin.\n",
      "\n",
      "\n",
      "What did Musk say was working with dogecoin developers?\n",
      "Company\n",
      "\n",
      "\n",
      "What did Musk want to improve with dogecoin?\n",
      "System transaction efficiency\n",
      "\n",
      "\n",
      "What company did Musk say would not accept bitcoin payments?\n",
      "Tesla\n",
      "\n",
      "\n",
      "What cryptocurrency did Musk rarely tweet about?\n",
      "Bitcoin\n",
      "\n",
      "\n",
      "What did Musk say he was working with to improve system transaction efficiency?\n",
      "Dogecoin\n",
      "\n",
      "\n",
      "What has Musk often tweeted in support of?\n",
      "Cryptocurrency\n",
      "\n",
      "\n",
      "What did Musk say his company would not accept in bitcoin?\n",
      "Payments\n",
      "\n",
      "\n",
      "What is the largest cryptocurrency?\n",
      "World\n",
      "\n",
      "\n",
      "Who said tesla would not accept bitcoin payments?\n",
      "Musk\n",
      "\n",
      "\n",
      "What did Musk say he was working with to improve system transaction efficiency?\n",
      "Dogecoin\n",
      "\n",
      "\n",
      "What cryptocurrency did Musk rarely tweet about?\n",
      "Bitcoin\n",
      "\n",
      "\n",
      "What has Musk often tweeted in support of?\n",
      "Cryptocurrency\n",
      "\n",
      "\n",
      "What company did Musk say would not accept bitcoin payments?\n",
      "Tesla\n",
      "\n",
      "\n"
     ]
    }
   ],
   "source": [
    "def get_question(context,answer,model,tokenizer):\n",
    "  text = \"context: {} answer: {}\".format(context,answer)\n",
    "  encoding = tokenizer.encode_plus(text,max_length=384, pad_to_max_length=False,truncation=True, return_tensors=\"pt\").to(device)\n",
    "  input_ids, attention_mask = encoding[\"input_ids\"], encoding[\"attention_mask\"]\n",
    "\n",
    "  outs = model.generate(input_ids=input_ids,\n",
    "                                  attention_mask=attention_mask,\n",
    "                                  early_stopping=True,\n",
    "                                  num_beams=5,\n",
    "                                  num_return_sequences=1,\n",
    "                                  no_repeat_ngram_size=2,\n",
    "                                  max_length=72)\n",
    "\n",
    "\n",
    "  dec = [tokenizer.decode(ids,skip_special_tokens=True) for ids in outs]\n",
    "\n",
    "\n",
    "  Question = dec[0].replace(\"question:\",\"\")\n",
    "  Question= Question.strip()\n",
    "  return Question\n",
    "\n",
    "\n",
    "\n",
    "for wrp in wrap(summarized_text, 150):\n",
    "  print (wrp)\n",
    "print (\"\\n\")\n",
    "\n",
    "for answer in imp_keywords:\n",
    "  ques = get_question(summarized_text,answer,question_model,question_tokenizer)\n",
    "  print (ques)\n",
    "  print (answer.capitalize())\n",
    "  print (\"\\n\")\n"
   ]
  },
  {
   "cell_type": "code",
   "execution_count": null,
   "id": "a72d7e5f",
   "metadata": {},
   "outputs": [],
   "source": []
  }
 ],
 "metadata": {
  "kernelspec": {
   "display_name": "Python 3 (ipykernel)",
   "language": "python",
   "name": "python3"
  },
  "language_info": {
   "codemirror_mode": {
    "name": "ipython",
    "version": 3
   },
   "file_extension": ".py",
   "mimetype": "text/x-python",
   "name": "python",
   "nbconvert_exporter": "python",
   "pygments_lexer": "ipython3",
   "version": "3.10.9"
  }
 },
 "nbformat": 4,
 "nbformat_minor": 5
}
